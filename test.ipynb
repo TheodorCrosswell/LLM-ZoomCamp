{
 "cells": [
  {
   "cell_type": "code",
   "execution_count": 28,
   "id": "ebe60000",
   "metadata": {},
   "outputs": [],
   "source": [
    "from openai import OpenAI"
   ]
  },
  {
   "cell_type": "code",
   "execution_count": 29,
   "id": "9f1f7bba",
   "metadata": {},
   "outputs": [],
   "source": [
    "with open('.\\\\apikey.txt','rt') as key:\n",
    "    client = OpenAI(api_key=key.read())"
   ]
  },
  {
   "cell_type": "code",
   "execution_count": 30,
   "id": "04b56b91",
   "metadata": {},
   "outputs": [],
   "source": [
    "result = client.chat.completions.create(\n",
    "    model='gpt-4o-mini',\n",
    "    messages=[{'role':'user','content':'bruh this llm bootcamp is hard. give me 1 short tip.'}]\n",
    ")"
   ]
  },
  {
   "cell_type": "code",
   "execution_count": 31,
   "id": "fe45e1d8",
   "metadata": {},
   "outputs": [
    {
     "name": "stdout",
     "output_type": "stream",
     "text": [
      "Stay consistent with your practice! Regularly experiment and build small projects to reinforce your learning.\n"
     ]
    }
   ],
   "source": [
    "print(result.choices[0].message.content)"
   ]
  }
 ],
 "metadata": {
  "kernelspec": {
   "display_name": "Python 3",
   "language": "python",
   "name": "python3"
  },
  "language_info": {
   "codemirror_mode": {
    "name": "ipython",
    "version": 3
   },
   "file_extension": ".py",
   "mimetype": "text/x-python",
   "name": "python",
   "nbconvert_exporter": "python",
   "pygments_lexer": "ipython3",
   "version": "3.13.3"
  }
 },
 "nbformat": 4,
 "nbformat_minor": 5
}
